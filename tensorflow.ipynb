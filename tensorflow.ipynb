{
 "cells": [
  {
   "cell_type": "code",
   "execution_count": 1,
   "metadata": {},
   "outputs": [],
   "source": [
    "import tensorflow as tf\n",
    "from tensorflow import keras\n",
    "from tensorflow.keras.preprocessing.text import Tokenizer"
   ]
  },
  {
   "cell_type": "code",
   "execution_count": 2,
   "metadata": {},
   "outputs": [],
   "source": [
    "sentence = [\n",
    "    'আমার একটি গরু আছে',\n",
    "    'আমার একটি মহিষ আছে',\n",
    "    'তোমার একটি গরু আছে!',\n",
    "    'তুমি কি মনে কর আমার গরু তরতাজা'\n",
    "]"
   ]
  },
  {
   "cell_type": "code",
   "execution_count": 3,
   "metadata": {},
   "outputs": [
    {
     "name": "stdout",
     "output_type": "stream",
     "text": [
      "{'আমার': 1, 'একটি': 2, 'গরু': 3, 'আছে': 4, 'মহিষ': 5, 'তোমার': 6, 'তুমি': 7, 'কি': 8, 'মনে': 9, 'কর': 10, 'তরতাজা': 11}\n",
      "[[1, 2, 3, 4], [1, 2, 5, 4], [6, 2, 3, 4], [7, 8, 9, 10, 1, 3, 11]]\n"
     ]
    }
   ],
   "source": [
    "tokenizer = Tokenizer(num_words=100)\n",
    "tokenizer.fit_on_texts(sentence)\n",
    "word_index = tokenizer.word_index\n",
    "sequences = tokenizer.texts_to_sequences(sentence)\n",
    "print(word_index)\n",
    "print(sequences)"
   ]
  },
  {
   "cell_type": "code",
   "execution_count": 4,
   "metadata": {},
   "outputs": [
    {
     "name": "stdout",
     "output_type": "stream",
     "text": [
      "[[1, 3, 4], [1, 3]]\n"
     ]
    }
   ],
   "source": [
    "test_data = [\n",
    "    'আমার আসলেই একটু গরু আছে',\n",
    "    'আমার গরু ঘাস খায়'\n",
    "]\n",
    "test_seq = tokenizer.texts_to_sequences(test_data)\n",
    "print(test_seq)"
   ]
  },
  {
   "cell_type": "code",
   "execution_count": 5,
   "metadata": {},
   "outputs": [
    {
     "name": "stdout",
     "output_type": "stream",
     "text": [
      "{'<OOV>': 1, 'আমার': 2, 'একটি': 3, 'গরু': 4, 'আছে': 5, 'মহিষ': 6, 'তোমার': 7, 'তুমি': 8, 'কি': 9, 'মনে': 10, 'কর': 11, 'তরতাজা': 12}\n",
      "[[2, 3, 4, 5], [2, 3, 6, 5], [7, 3, 4, 5], [8, 9, 10, 11, 2, 4, 12]]\n"
     ]
    }
   ],
   "source": [
    "tokenizer = Tokenizer(num_words=100,oov_token='<OOV>')\n",
    "tokenizer.fit_on_texts(sentence)\n",
    "word_index = tokenizer.word_index\n",
    "sequences = tokenizer.texts_to_sequences(sentence)\n",
    "print(word_index)\n",
    "print(sequences)"
   ]
  },
  {
   "cell_type": "code",
   "execution_count": 6,
   "metadata": {},
   "outputs": [
    {
     "name": "stdout",
     "output_type": "stream",
     "text": [
      "[[2, 1, 1, 4, 5], [2, 4, 1, 1]]\n"
     ]
    }
   ],
   "source": [
    "test_data = [\n",
    "    'আমার আসলেই একটু গরু আছে',\n",
    "    'আমার গরু ঘাস খায়'\n",
    "]\n",
    "test_seq = tokenizer.texts_to_sequences(test_data)\n",
    "print(test_seq)"
   ]
  },
  {
   "cell_type": "markdown",
   "metadata": {},
   "source": [
    "# Padding"
   ]
  },
  {
   "cell_type": "code",
   "execution_count": 7,
   "metadata": {},
   "outputs": [],
   "source": [
    "from tensorflow.keras.preprocessing.sequence import pad_sequences\n",
    "from tensorflow.keras.preprocessing.text import Tokenizer"
   ]
  },
  {
   "cell_type": "code",
   "execution_count": 8,
   "metadata": {},
   "outputs": [],
   "source": [
    "sentence = [\n",
    "    'আমার একটি গরু আছে',\n",
    "    'আমার একটি মহিষ আছে',\n",
    "    'তোমার একটি গরু আছে!',\n",
    "    'তুমি কি মনে কর আমার গরু তরতাজা'\n",
    "]"
   ]
  },
  {
   "cell_type": "code",
   "execution_count": 9,
   "metadata": {},
   "outputs": [
    {
     "name": "stdout",
     "output_type": "stream",
     "text": [
      "{'<OOV>': 1, 'আমার': 2, 'একটি': 3, 'গরু': 4, 'আছে': 5, 'মহিষ': 6, 'তোমার': 7, 'তুমি': 8, 'কি': 9, 'মনে': 10, 'কর': 11, 'তরতাজা': 12}\n",
      "[[2, 3, 4, 5], [2, 3, 6, 5], [7, 3, 4, 5], [8, 9, 10, 11, 2, 4, 12]]\n",
      "[[ 0  0  0  2  3  4  5]\n",
      " [ 0  0  0  2  3  6  5]\n",
      " [ 0  0  0  7  3  4  5]\n",
      " [ 8  9 10 11  2  4 12]]\n"
     ]
    }
   ],
   "source": [
    "tokenizer = Tokenizer(num_words=100, oov_token='<OOV>')\n",
    "tokenizer.fit_on_texts(sentence)\n",
    "word_index = tokenizer.word_index\n",
    "sequences = tokenizer.texts_to_sequences(sentence)\n",
    "\n",
    "padded = pad_sequences(sequences)\n",
    "print(word_index)\n",
    "print(sequences)\n",
    "print(padded)"
   ]
  },
  {
   "cell_type": "markdown",
   "metadata": {},
   "source": [
    "# padding post"
   ]
  },
  {
   "cell_type": "code",
   "execution_count": 10,
   "metadata": {},
   "outputs": [
    {
     "name": "stdout",
     "output_type": "stream",
     "text": [
      "{'<OOV>': 1, 'আমার': 2, 'একটি': 3, 'গরু': 4, 'আছে': 5, 'মহিষ': 6, 'তোমার': 7, 'তুমি': 8, 'কি': 9, 'মনে': 10, 'কর': 11, 'তরতাজা': 12}\n",
      "[[2, 3, 4, 5], [2, 3, 6, 5], [7, 3, 4, 5], [8, 9, 10, 11, 2, 4, 12]]\n",
      "[[ 2  3  4  5  0  0  0]\n",
      " [ 2  3  6  5  0  0  0]\n",
      " [ 7  3  4  5  0  0  0]\n",
      " [ 8  9 10 11  2  4 12]]\n"
     ]
    }
   ],
   "source": [
    "tokenizer = Tokenizer(num_words=100, oov_token='<OOV>')\n",
    "tokenizer.fit_on_texts(sentence)\n",
    "word_index = tokenizer.word_index\n",
    "sequences = tokenizer.texts_to_sequences(sentence)\n",
    "\n",
    "padded = pad_sequences(sequences, padding='post')\n",
    "print(word_index)\n",
    "print(sequences)\n",
    "print(padded)"
   ]
  },
  {
   "cell_type": "markdown",
   "metadata": {},
   "source": [
    "# Padding maxlen"
   ]
  },
  {
   "cell_type": "code",
   "execution_count": 11,
   "metadata": {},
   "outputs": [
    {
     "name": "stdout",
     "output_type": "stream",
     "text": [
      "{'<OOV>': 1, 'আমার': 2, 'একটি': 3, 'গরু': 4, 'আছে': 5, 'মহিষ': 6, 'তোমার': 7, 'তুমি': 8, 'কি': 9, 'মনে': 10, 'কর': 11, 'তরতাজা': 12}\n",
      "[[2, 3, 4, 5], [2, 3, 6, 5], [7, 3, 4, 5], [8, 9, 10, 11, 2, 4, 12]]\n",
      "[[ 2  3  4  5  0]\n",
      " [ 2  3  6  5  0]\n",
      " [ 7  3  4  5  0]\n",
      " [10 11  2  4 12]]\n"
     ]
    }
   ],
   "source": [
    "tokenizer = Tokenizer(num_words=100, oov_token='<OOV>')\n",
    "tokenizer.fit_on_texts(sentence)\n",
    "word_index = tokenizer.word_index\n",
    "sequences = tokenizer.texts_to_sequences(sentence)\n",
    "\n",
    "padded = pad_sequences(sequences, padding='post',maxlen=5)\n",
    "print(word_index)\n",
    "print(sequences)\n",
    "print(padded)"
   ]
  },
  {
   "cell_type": "code",
   "execution_count": 12,
   "metadata": {},
   "outputs": [
    {
     "name": "stdout",
     "output_type": "stream",
     "text": [
      "{'<OOV>': 1, 'আমার': 2, 'একটি': 3, 'গরু': 4, 'আছে': 5, 'মহিষ': 6, 'তোমার': 7, 'তুমি': 8, 'কি': 9, 'মনে': 10, 'কর': 11, 'তরতাজা': 12}\n",
      "[[2, 3, 4, 5], [2, 3, 6, 5], [7, 3, 4, 5], [8, 9, 10, 11, 2, 4, 12]]\n",
      "[[ 0  2  3  4  5]\n",
      " [ 0  2  3  6  5]\n",
      " [ 0  7  3  4  5]\n",
      " [10 11  2  4 12]]\n"
     ]
    }
   ],
   "source": [
    "tokenizer = Tokenizer(num_words=100, oov_token='<OOV>')\n",
    "tokenizer.fit_on_texts(sentence)\n",
    "word_index = tokenizer.word_index\n",
    "sequences = tokenizer.texts_to_sequences(sentence)\n",
    "\n",
    "padded = pad_sequences(sequences, maxlen=5)\n",
    "print(word_index)\n",
    "print(sequences)\n",
    "print(padded)"
   ]
  },
  {
   "cell_type": "markdown",
   "metadata": {},
   "source": [
    "# Padding Truncating "
   ]
  },
  {
   "cell_type": "code",
   "execution_count": 13,
   "metadata": {},
   "outputs": [
    {
     "name": "stdout",
     "output_type": "stream",
     "text": [
      "{'<OOV>': 1, 'আমার': 2, 'একটি': 3, 'গরু': 4, 'আছে': 5, 'মহিষ': 6, 'তোমার': 7, 'তুমি': 8, 'কি': 9, 'মনে': 10, 'কর': 11, 'তরতাজা': 12}\n",
      "[[2, 3, 4, 5], [2, 3, 6, 5], [7, 3, 4, 5], [8, 9, 10, 11, 2, 4, 12]]\n",
      "[[ 2  3  4  5  0]\n",
      " [ 2  3  6  5  0]\n",
      " [ 7  3  4  5  0]\n",
      " [ 8  9 10 11  2]]\n"
     ]
    }
   ],
   "source": [
    "tokenizer = Tokenizer(num_words=100, oov_token='<OOV>')\n",
    "tokenizer.fit_on_texts(sentence)\n",
    "word_index = tokenizer.word_index\n",
    "sequences = tokenizer.texts_to_sequences(sentence)\n",
    "\n",
    "padded = pad_sequences(sequences, padding='post',maxlen=5,truncating='post')\n",
    "print(word_index)\n",
    "print(sequences)\n",
    "print(padded)"
   ]
  },
  {
   "cell_type": "code",
   "execution_count": 14,
   "metadata": {},
   "outputs": [
    {
     "name": "stdout",
     "output_type": "stream",
     "text": [
      "{'<OOV>': 1, 'আমার': 2, 'একটি': 3, 'গরু': 4, 'আছে': 5, 'মহিষ': 6, 'তোমার': 7, 'তুমি': 8, 'কি': 9, 'মনে': 10, 'কর': 11, 'তরতাজা': 12}\n",
      "[[2, 3, 4, 5], [2, 3, 6, 5], [7, 3, 4, 5], [8, 9, 10, 11, 2, 4, 12]]\n",
      "[[ 0  2  3  4  5]\n",
      " [ 0  2  3  6  5]\n",
      " [ 0  7  3  4  5]\n",
      " [10 11  2  4 12]]\n"
     ]
    }
   ],
   "source": [
    "tokenizer = Tokenizer(num_words=100, oov_token='<OOV>')\n",
    "tokenizer.fit_on_texts(sentence)\n",
    "word_index = tokenizer.word_index\n",
    "sequences = tokenizer.texts_to_sequences(sentence)\n",
    "\n",
    "padded = pad_sequences(sequences, maxlen=5,padding='pre', truncating='pre')\n",
    "print(word_index)\n",
    "print(sequences)\n",
    "print(padded)"
   ]
  },
  {
   "cell_type": "markdown",
   "metadata": {},
   "source": [
    "# Pandas read_json file"
   ]
  },
  {
   "cell_type": "code",
   "execution_count": 20,
   "metadata": {},
   "outputs": [
    {
     "data": {
      "text/html": [
       "<div>\n",
       "<style scoped>\n",
       "    .dataframe tbody tr th:only-of-type {\n",
       "        vertical-align: middle;\n",
       "    }\n",
       "\n",
       "    .dataframe tbody tr th {\n",
       "        vertical-align: top;\n",
       "    }\n",
       "\n",
       "    .dataframe thead th {\n",
       "        text-align: right;\n",
       "    }\n",
       "</style>\n",
       "<table border=\"1\" class=\"dataframe\">\n",
       "  <thead>\n",
       "    <tr style=\"text-align: right;\">\n",
       "      <th></th>\n",
       "      <th>article_link</th>\n",
       "      <th>headline</th>\n",
       "      <th>is_sarcastic</th>\n",
       "    </tr>\n",
       "  </thead>\n",
       "  <tbody>\n",
       "    <tr>\n",
       "      <th>0</th>\n",
       "      <td>https://www.huffingtonpost.com/entry/versace-b...</td>\n",
       "      <td>former versace store clerk sues over secret 'b...</td>\n",
       "      <td>0</td>\n",
       "    </tr>\n",
       "    <tr>\n",
       "      <th>1</th>\n",
       "      <td>https://www.huffingtonpost.com/entry/roseanne-...</td>\n",
       "      <td>the 'roseanne' revival catches up to our thorn...</td>\n",
       "      <td>0</td>\n",
       "    </tr>\n",
       "    <tr>\n",
       "      <th>2</th>\n",
       "      <td>https://local.theonion.com/mom-starting-to-fea...</td>\n",
       "      <td>mom starting to fear son's web series closest ...</td>\n",
       "      <td>1</td>\n",
       "    </tr>\n",
       "    <tr>\n",
       "      <th>3</th>\n",
       "      <td>https://politics.theonion.com/boehner-just-wan...</td>\n",
       "      <td>boehner just wants wife to listen, not come up...</td>\n",
       "      <td>1</td>\n",
       "    </tr>\n",
       "    <tr>\n",
       "      <th>4</th>\n",
       "      <td>https://www.huffingtonpost.com/entry/jk-rowlin...</td>\n",
       "      <td>j.k. rowling wishes snape happy birthday in th...</td>\n",
       "      <td>0</td>\n",
       "    </tr>\n",
       "  </tbody>\n",
       "</table>\n",
       "</div>"
      ],
      "text/plain": [
       "                                        article_link  \\\n",
       "0  https://www.huffingtonpost.com/entry/versace-b...   \n",
       "1  https://www.huffingtonpost.com/entry/roseanne-...   \n",
       "2  https://local.theonion.com/mom-starting-to-fea...   \n",
       "3  https://politics.theonion.com/boehner-just-wan...   \n",
       "4  https://www.huffingtonpost.com/entry/jk-rowlin...   \n",
       "\n",
       "                                            headline  is_sarcastic  \n",
       "0  former versace store clerk sues over secret 'b...             0  \n",
       "1  the 'roseanne' revival catches up to our thorn...             0  \n",
       "2  mom starting to fear son's web series closest ...             1  \n",
       "3  boehner just wants wife to listen, not come up...             1  \n",
       "4  j.k. rowling wishes snape happy birthday in th...             0  "
      ]
     },
     "execution_count": 20,
     "metadata": {},
     "output_type": "execute_result"
    }
   ],
   "source": [
    "# import pandas as pd \n",
    "# datastore = pd.read_json('/Users/msjahid/Desktop/NLP/sarcasm.json')\n",
    "# datastore.head()"
   ]
  },
  {
   "cell_type": "code",
   "execution_count": 23,
   "metadata": {},
   "outputs": [],
   "source": [
    "import json\n",
    "with open('/Users/msjahid/Desktop/NLP/sarcasm.json', 'r') as f:\n",
    "    datastore = json.load(f)"
   ]
  },
  {
   "cell_type": "code",
   "execution_count": 24,
   "metadata": {},
   "outputs": [],
   "source": [
    "sentences = []\n",
    "lable = []\n",
    "urls = []\n",
    "for item in datastore:\n",
    "    sentences.append(item['headline'])\n",
    "    lable.append(item['is_sarcastic'])\n",
    "    urls.append(item['article_link'])"
   ]
  },
  {
   "cell_type": "code",
   "execution_count": null,
   "metadata": {},
   "outputs": [],
   "source": []
  }
 ],
 "metadata": {
  "kernelspec": {
   "display_name": "Python 3",
   "language": "python",
   "name": "python3"
  },
  "language_info": {
   "codemirror_mode": {
    "name": "ipython",
    "version": 3
   },
   "file_extension": ".py",
   "mimetype": "text/x-python",
   "name": "python",
   "nbconvert_exporter": "python",
   "pygments_lexer": "ipython3",
   "version": "3.7.6"
  }
 },
 "nbformat": 4,
 "nbformat_minor": 4
}
